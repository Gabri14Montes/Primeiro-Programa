{
  "nbformat": 4,
  "nbformat_minor": 0,
  "metadata": {
    "colab": {
      "provenance": [],
      "authorship_tag": "ABX9TyM3UXIckfe1cpnrYwQ9PMoq",
      "include_colab_link": true
    },
    "kernelspec": {
      "name": "python3",
      "display_name": "Python 3"
    },
    "language_info": {
      "name": "python"
    }
  },
  "cells": [
    {
      "cell_type": "markdown",
      "metadata": {
        "id": "view-in-github",
        "colab_type": "text"
      },
      "source": [
        "<a href=\"https://colab.research.google.com/github/Gabri14Montes/Primeiro-Programa/blob/main/Primeiro_Programa.ipynb\" target=\"_parent\"><img src=\"https://colab.research.google.com/assets/colab-badge.svg\" alt=\"Open In Colab\"/></a>"
      ]
    },
    {
      "cell_type": "code",
      "execution_count": null,
      "metadata": {
        "colab": {
          "base_uri": "https://localhost:8080/"
        },
        "id": "6MxrCpeylWnm",
        "outputId": "20cc8208-7c50-4c27-ff98-9f4dd29e40b0"
      },
      "outputs": [
        {
          "output_type": "stream",
          "name": "stdout",
          "text": [
            "Ola mundo\n"
          ]
        }
      ],
      "source": [
        "print(\"Ola mundo\")"
      ]
    },
    {
      "cell_type": "code",
      "source": [
        "Numero = int(input(\"digita um número \"))\n",
        "\n",
        "if Numero % 3 == 0:\n",
        "    print(\"o número é divisivel por 3\")\n",
        "else:\n",
        "    print(\"o número não é divisivel por 3\")"
      ],
      "metadata": {
        "colab": {
          "base_uri": "https://localhost:8080/"
        },
        "id": "SnQXxMero-Jd",
        "outputId": "444cf7a0-18f9-4a4a-a817-4736cb2b7f31"
      },
      "execution_count": 4,
      "outputs": [
        {
          "output_type": "stream",
          "name": "stdout",
          "text": [
            "digita um número 15\n",
            "o número é divisivel por 3\n"
          ]
        }
      ]
    },
    {
      "cell_type": "code",
      "source": [
        "nota1 = float(input(\"digite a primeira nota \"))\n",
        "nota2 = float(input(\"digite a segunda nota \"))\n",
        "\n",
        "media = (nota1 + nota2) / 2\n",
        "\n",
        "if media >= 7:\n",
        "    print(\"aprovado\")\n",
        "elif media >= 4:\n",
        "    print(\"recuperação\")\n",
        "else:\n",
        "    print(\"reprovado\")"
      ],
      "metadata": {
        "colab": {
          "base_uri": "https://localhost:8080/"
        },
        "id": "yJfRUCIJqjJm",
        "outputId": "32041cdd-5c5f-41ad-9825-9767ae5f0e92"
      },
      "execution_count": 7,
      "outputs": [
        {
          "output_type": "stream",
          "name": "stdout",
          "text": [
            "digite a primeira nota 4\n",
            "digite a segunda nota 4\n",
            "recuperação\n"
          ]
        }
      ]
    },
    {
      "cell_type": "code",
      "source": [],
      "metadata": {
        "id": "P0IUivdFrfyW"
      },
      "execution_count": null,
      "outputs": []
    }
  ]
}