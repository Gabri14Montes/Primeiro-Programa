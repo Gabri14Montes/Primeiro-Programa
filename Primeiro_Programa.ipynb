{
  "nbformat": 4,
  "nbformat_minor": 0,
  "metadata": {
    "colab": {
      "provenance": [],
      "authorship_tag": "ABX9TyOKn/eLTGNgoxjW9mfc+94s",
      "include_colab_link": true
    },
    "kernelspec": {
      "name": "python3",
      "display_name": "Python 3"
    },
    "language_info": {
      "name": "python"
    }
  },
  "cells": [
    {
      "cell_type": "markdown",
      "metadata": {
        "id": "view-in-github",
        "colab_type": "text"
      },
      "source": [
        "<a href=\"https://colab.research.google.com/github/Gabri14Montes/Primeiro-Programa/blob/main/Primeiro_Programa.ipynb\" target=\"_parent\"><img src=\"https://colab.research.google.com/assets/colab-badge.svg\" alt=\"Open In Colab\"/></a>"
      ]
    },
    {
      "cell_type": "code",
      "execution_count": null,
      "metadata": {
        "colab": {
          "base_uri": "https://localhost:8080/"
        },
        "id": "6MxrCpeylWnm",
        "outputId": "20cc8208-7c50-4c27-ff98-9f4dd29e40b0"
      },
      "outputs": [
        {
          "output_type": "stream",
          "name": "stdout",
          "text": [
            "Ola mundo\n"
          ]
        }
      ],
      "source": [
        "print(\"Ola mundo\")"
      ]
    },
    {
      "cell_type": "code",
      "source": [
        "Numero = int(input(\"digita um número \"))\n",
        "\n",
        "if Numero % 3 == 0:\n",
        "    print(\"o número é divisivel por 3\")\n",
        "else:\n",
        "    print(\"o número não é divisivel por 3\")"
      ],
      "metadata": {
        "id": "SnQXxMero-Jd",
        "outputId": "444cf7a0-18f9-4a4a-a817-4736cb2b7f31",
        "colab": {
          "base_uri": "https://localhost:8080/"
        }
      },
      "execution_count": 4,
      "outputs": [
        {
          "output_type": "stream",
          "name": "stdout",
          "text": [
            "digita um número 15\n",
            "o número é divisivel por 3\n"
          ]
        }
      ]
    },
    {
      "cell_type": "code",
      "source": [],
      "metadata": {
        "id": "yJfRUCIJqjJm"
      },
      "execution_count": null,
      "outputs": []
    }
  ]
}